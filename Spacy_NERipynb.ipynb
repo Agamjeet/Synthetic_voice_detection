{
  "nbformat": 4,
  "nbformat_minor": 0,
  "metadata": {
    "colab": {
      "provenance": [],
      "authorship_tag": "ABX9TyOV5pZJllQqJ95V2MhqyooZ",
      "include_colab_link": true
    },
    "kernelspec": {
      "name": "python3",
      "display_name": "Python 3"
    },
    "language_info": {
      "name": "python"
    }
  },
  "cells": [
    {
      "cell_type": "markdown",
      "metadata": {
        "id": "view-in-github",
        "colab_type": "text"
      },
      "source": [
        "<a href=\"https://colab.research.google.com/github/Agamjeet/Synthetic_voice_detection/blob/master/Spacy_NERipynb.ipynb\" target=\"_parent\"><img src=\"https://colab.research.google.com/assets/colab-badge.svg\" alt=\"Open In Colab\"/></a>"
      ]
    },
    {
      "cell_type": "code",
      "execution_count": 5,
      "metadata": {
        "id": "OS_PLHBLsaZz"
      },
      "outputs": [],
      "source": [
        "import spacy"
      ]
    },
    {
      "cell_type": "code",
      "source": [
        "!python -m spacy download en_core_web_lg"
      ],
      "metadata": {
        "id": "fxBj3p0_tIrG"
      },
      "execution_count": null,
      "outputs": []
    },
    {
      "cell_type": "code",
      "source": [
        "nlp=spacy.load(\"en_core_web_lg\")\n",
        "nlp\n"
      ],
      "metadata": {
        "colab": {
          "base_uri": "https://localhost:8080/"
        },
        "id": "dD0q0VuMtIxd",
        "outputId": "50899573-ece4-47ca-ade1-0d4099444117"
      },
      "execution_count": 4,
      "outputs": [
        {
          "output_type": "execute_result",
          "data": {
            "text/plain": [
              "<spacy.lang.en.English at 0x7ced9af87d90>"
            ]
          },
          "metadata": {},
          "execution_count": 3
        },
        {
          "output_type": "execute_result",
          "data": {
            "text/plain": [
              "<spacy.lang.en.English at 0x7ced94b265f0>"
            ]
          },
          "metadata": {},
          "execution_count": 4
        }
      ]
    },
    {
      "cell_type": "code",
      "source": [
        "#once we have spacy language model we can pass any text into it and it will create a doc object\n",
        "doc=nlp(\"Donald Trump was President of USA\")"
      ],
      "metadata": {
        "id": "ZJFvZhqutI0K"
      },
      "execution_count": 6,
      "outputs": []
    },
    {
      "cell_type": "code",
      "source": [
        "doc"
      ],
      "metadata": {
        "colab": {
          "base_uri": "https://localhost:8080/"
        },
        "id": "-lIKLyk2tI3A",
        "outputId": "a663cdbc-c632-4685-c415-3b2d37f9bcaf"
      },
      "execution_count": 7,
      "outputs": [
        {
          "output_type": "execute_result",
          "data": {
            "text/plain": [
              "Donald Trump was President of USA"
            ]
          },
          "metadata": {},
          "execution_count": 7
        }
      ]
    },
    {
      "cell_type": "code",
      "source": [
        "type(doc)"
      ],
      "metadata": {
        "colab": {
          "base_uri": "https://localhost:8080/"
        },
        "id": "vNz2bS6ttI6C",
        "outputId": "0c3c0384-f61c-424e-9e25-efdfe1087edb"
      },
      "execution_count": 8,
      "outputs": [
        {
          "output_type": "execute_result",
          "data": {
            "text/plain": [
              "spacy.tokens.doc.Doc"
            ]
          },
          "metadata": {},
          "execution_count": 8
        }
      ]
    },
    {
      "cell_type": "code",
      "source": [
        "doc.ents#list of all entities in doc"
      ],
      "metadata": {
        "colab": {
          "base_uri": "https://localhost:8080/"
        },
        "id": "amKHzG_0tI8p",
        "outputId": "5045903f-d0ed-4e90-cc84-a8fcc12a5cb9"
      },
      "execution_count": 12,
      "outputs": [
        {
          "output_type": "execute_result",
          "data": {
            "text/plain": [
              "(Donald Trump, USA)"
            ]
          },
          "metadata": {},
          "execution_count": 12
        }
      ]
    },
    {
      "cell_type": "code",
      "source": [
        "doc.ents[0],type(doc.ents[0])\n",
        "#each entity inside of doc.ent is of type span\n",
        "#to train spacy model -\n",
        "# 1 take each train example\n",
        "# 2 create a doc onject\n",
        "# 3 add entities in example as a list of span objtes\n",
        "# 4 train spacy model\n",
        "# 5 use visualization"
      ],
      "metadata": {
        "colab": {
          "base_uri": "https://localhost:8080/"
        },
        "id": "hIgUslAVtI_Y",
        "outputId": "2030a4fe-0aee-449c-d252-251386113a57"
      },
      "execution_count": 15,
      "outputs": [
        {
          "output_type": "execute_result",
          "data": {
            "text/plain": [
              "(Donald Trump, spacy.tokens.span.Span)"
            ]
          },
          "metadata": {},
          "execution_count": 15
        }
      ]
    },
    {
      "cell_type": "code",
      "source": [
        "from spacy import displacy\n",
        "displacy.render(doc,style=\"ent\",jupyter=True)"
      ],
      "metadata": {
        "colab": {
          "base_uri": "https://localhost:8080/",
          "height": 52
        },
        "id": "Dvz93X6CtJB2",
        "outputId": "72f4af0d-2969-4f9f-9b34-c6eac232a556"
      },
      "execution_count": 17,
      "outputs": [
        {
          "output_type": "display_data",
          "data": {
            "text/plain": [
              "<IPython.core.display.HTML object>"
            ],
            "text/html": [
              "<span class=\"tex2jax_ignore\"><div class=\"entities\" style=\"line-height: 2.5; direction: ltr\">\n",
              "<mark class=\"entity\" style=\"background: #aa9cfc; padding: 0.45em 0.6em; margin: 0 0.25em; line-height: 1; border-radius: 0.35em;\">\n",
              "    Donald Trump\n",
              "    <span style=\"font-size: 0.8em; font-weight: bold; line-height: 1; border-radius: 0.35em; vertical-align: middle; margin-left: 0.5rem\">PERSON</span>\n",
              "</mark>\n",
              " was President of \n",
              "<mark class=\"entity\" style=\"background: #feca74; padding: 0.45em 0.6em; margin: 0 0.25em; line-height: 1; border-radius: 0.35em;\">\n",
              "    USA\n",
              "    <span style=\"font-size: 0.8em; font-weight: bold; line-height: 1; border-radius: 0.35em; vertical-align: middle; margin-left: 0.5rem\">GPE</span>\n",
              "</mark>\n",
              "</div></span>"
            ]
          },
          "metadata": {}
        }
      ]
    },
    {
      "cell_type": "code",
      "source": [
        "#use some data from kaggle\n",
        "#https://www.kaggle.com/datasets/finalepoch/medical-ner?resource=download\n",
        "import json\n",
        "with open('/content/Corona2.json','r') as f:\n",
        "  data=json.load(f)"
      ],
      "metadata": {
        "id": "khsPlmxVvN_A"
      },
      "execution_count": 18,
      "outputs": []
    },
    {
      "cell_type": "code",
      "source": [
        "data['examples'][0]\n",
        "#each example is a dict"
      ],
      "metadata": {
        "id": "Uhe1IuaAvOB8"
      },
      "execution_count": null,
      "outputs": []
    },
    {
      "cell_type": "code",
      "source": [
        "data['examples'][0].keys()"
      ],
      "metadata": {
        "colab": {
          "base_uri": "https://localhost:8080/"
        },
        "id": "5Kf5Ax3evOFZ",
        "outputId": "f282d229-1dfb-4bc1-ecb0-2a96f9c5fd3e"
      },
      "execution_count": 21,
      "outputs": [
        {
          "output_type": "execute_result",
          "data": {
            "text/plain": [
              "dict_keys(['id', 'content', 'metadata', 'annotations', 'classifications'])"
            ]
          },
          "metadata": {},
          "execution_count": 21
        }
      ]
    },
    {
      "cell_type": "code",
      "source": [
        "data['examples'][0]['content']"
      ],
      "metadata": {
        "colab": {
          "base_uri": "https://localhost:8080/",
          "height": 209
        },
        "id": "bscTTZJjvOIM",
        "outputId": "e1d884b4-4690-4b1c-bcf4-2ff74c00a6c2"
      },
      "execution_count": 53,
      "outputs": [
        {
          "output_type": "execute_result",
          "data": {
            "text/plain": [
              "\"While bismuth compounds (Pepto-Bismol) decreased the number of bowel movements in those with travelers' diarrhea, they do not decrease the length of illness.[91] Anti-motility agents like loperamide are also effective at reducing the number of stools but not the duration of disease.[8] These agents should be used only if bloody diarrhea is not present.[92]\\n\\nDiosmectite, a natural aluminomagnesium silicate clay, is effective in alleviating symptoms of acute diarrhea in children,[93] and also has some effects in chronic functional diarrhea, radiation-induced diarrhea, and chemotherapy-induced diarrhea.[45] Another absorbent agent used for the treatment of mild diarrhea is kaopectate.\\n\\nRacecadotril an antisecretory medication may be used to treat diarrhea in children and adults.[86] It has better tolerability than loperamide, as it causes less constipation and flatulence.[94]\""
            ],
            "application/vnd.google.colaboratory.intrinsic+json": {
              "type": "string"
            }
          },
          "metadata": {},
          "execution_count": 53
        }
      ]
    },
    {
      "cell_type": "code",
      "source": [
        "data['examples'][0]['annotations'][0]\n",
        "#we are interested in tag_name and start and end"
      ],
      "metadata": {
        "colab": {
          "base_uri": "https://localhost:8080/"
        },
        "id": "jpwZpA6hvOLq",
        "outputId": "45b16fdf-836d-4c5a-efa0-915c6c71ddf2"
      },
      "execution_count": 24,
      "outputs": [
        {
          "output_type": "execute_result",
          "data": {
            "text/plain": [
              "{'id': '0825a1bf-6a6e-4fa2-be77-8d104701eaed',\n",
              " 'tag_id': 'c06bd022-6ded-44a5-8d90-f17685bb85a1',\n",
              " 'end': 371,\n",
              " 'start': 360,\n",
              " 'example_id': '18c2f619-f102-452f-ab81-d26f7e283ffe',\n",
              " 'tag_name': 'Medicine',\n",
              " 'value': 'Diosmectite',\n",
              " 'correct': None,\n",
              " 'human_annotations': [{'timestamp': '2020-03-21T00:24:32.098000Z',\n",
              "   'annotator_id': 1,\n",
              "   'tagged_token_id': '0825a1bf-6a6e-4fa2-be77-8d104701eaed',\n",
              "   'name': 'Ashpat123',\n",
              "   'reason': 'exploration'}],\n",
              " 'model_annotations': []}"
            ]
          },
          "metadata": {},
          "execution_count": 24
        }
      ]
    },
    {
      "cell_type": "code",
      "source": [
        "training_data =[]\n",
        "for example in data['examples']:\n",
        "  temp_dict={}\n",
        "  temp_dict['text']=example['content']\n",
        "  temp_dict['entities']=[]\n",
        "  for annotations in example['annotations']:\n",
        "    start=annotations['start']\n",
        "    end=annotations['end']\n",
        "    label=annotations['tag_name'].upper()\n",
        "    temp_dict['entities'].append((start,end,label))\n",
        "  training_data.append(temp_dict)\n",
        "print(training_data[0])"
      ],
      "metadata": {
        "colab": {
          "base_uri": "https://localhost:8080/"
        },
        "id": "P5uCTj7SwaK4",
        "outputId": "312c6773-d5e2-4231-ae63-901ad4afec22"
      },
      "execution_count": 26,
      "outputs": [
        {
          "output_type": "stream",
          "name": "stdout",
          "text": [
            "{'text': \"While bismuth compounds (Pepto-Bismol) decreased the number of bowel movements in those with travelers' diarrhea, they do not decrease the length of illness.[91] Anti-motility agents like loperamide are also effective at reducing the number of stools but not the duration of disease.[8] These agents should be used only if bloody diarrhea is not present.[92]\\n\\nDiosmectite, a natural aluminomagnesium silicate clay, is effective in alleviating symptoms of acute diarrhea in children,[93] and also has some effects in chronic functional diarrhea, radiation-induced diarrhea, and chemotherapy-induced diarrhea.[45] Another absorbent agent used for the treatment of mild diarrhea is kaopectate.\\n\\nRacecadotril an antisecretory medication may be used to treat diarrhea in children and adults.[86] It has better tolerability than loperamide, as it causes less constipation and flatulence.[94]\", 'entities': [(360, 371, 'MEDICINE'), (383, 408, 'MEDICINE'), (104, 112, 'MEDICALCONDITION'), (679, 689, 'MEDICINE'), (6, 23, 'MEDICINE'), (25, 37, 'MEDICINE'), (461, 470, 'MEDICALCONDITION'), (577, 589, 'MEDICINE'), (853, 865, 'MEDICALCONDITION'), (188, 198, 'MEDICINE'), (754, 762, 'MEDICALCONDITION'), (870, 880, 'MEDICALCONDITION'), (823, 833, 'MEDICINE'), (852, 853, 'MEDICALCONDITION'), (461, 469, 'MEDICALCONDITION'), (535, 543, 'MEDICALCONDITION'), (692, 704, 'MEDICINE'), (563, 571, 'MEDICALCONDITION')]}\n"
          ]
        }
      ]
    },
    {
      "cell_type": "code",
      "source": [
        "training_data[0]['entities']"
      ],
      "metadata": {
        "colab": {
          "base_uri": "https://localhost:8080/"
        },
        "id": "IdwxUcwNxPfQ",
        "outputId": "0ee4e8c9-0a2a-4cdf-bf7a-23ff741a6e97"
      },
      "execution_count": 27,
      "outputs": [
        {
          "output_type": "execute_result",
          "data": {
            "text/plain": [
              "[(360, 371, 'MEDICINE'),\n",
              " (383, 408, 'MEDICINE'),\n",
              " (104, 112, 'MEDICALCONDITION'),\n",
              " (679, 689, 'MEDICINE'),\n",
              " (6, 23, 'MEDICINE'),\n",
              " (25, 37, 'MEDICINE'),\n",
              " (461, 470, 'MEDICALCONDITION'),\n",
              " (577, 589, 'MEDICINE'),\n",
              " (853, 865, 'MEDICALCONDITION'),\n",
              " (188, 198, 'MEDICINE'),\n",
              " (754, 762, 'MEDICALCONDITION'),\n",
              " (870, 880, 'MEDICALCONDITION'),\n",
              " (823, 833, 'MEDICINE'),\n",
              " (852, 853, 'MEDICALCONDITION'),\n",
              " (461, 469, 'MEDICALCONDITION'),\n",
              " (535, 543, 'MEDICALCONDITION'),\n",
              " (692, 704, 'MEDICINE'),\n",
              " (563, 571, 'MEDICALCONDITION')]"
            ]
          },
          "metadata": {},
          "execution_count": 27
        }
      ]
    },
    {
      "cell_type": "code",
      "source": [
        "from spacy.tokens import DocBin\n",
        "#object that stores doc\n",
        "from tqdm import tqdm\n",
        "nlp=spacy.blank(\"en\") #Blank spacy model\n",
        "doc_bin=DocBin()"
      ],
      "metadata": {
        "id": "YfqJnPSNwaNx"
      },
      "execution_count": 29,
      "outputs": []
    },
    {
      "cell_type": "code",
      "source": [
        "from spacy.util import filter_spans\n",
        "for training_example in tqdm(training_data):\n",
        "  text=training_example['text']\n",
        "  labels=training_example['entities']\n",
        "  doc=nlp.make_doc(text)\n",
        "  ents=[]\n",
        "  for start,end,lable in labels:\n",
        "    span=doc.char_span(start,end,label=label,alignment_mode=\"contract\")\n",
        "    if span is None:\n",
        "      print(\"Skipping Entity\")\n",
        "    else:\n",
        "      ents.append(span)\n",
        "    filtered_ents=filter_spans(ents)\n",
        "    doc.ents=filtered_ents\n",
        "    doc_bin.add(doc)\n",
        "doc_bin.to_disk(\"train.spacy\")"
      ],
      "metadata": {
        "colab": {
          "base_uri": "https://localhost:8080/"
        },
        "id": "KOFrXWgawaQj",
        "outputId": "c72dd9de-71fd-424d-8dd2-c02b4e2671f8"
      },
      "execution_count": 30,
      "outputs": [
        {
          "output_type": "stream",
          "name": "stderr",
          "text": [
            "100%|██████████| 31/31 [00:00<00:00, 112.53it/s]"
          ]
        },
        {
          "output_type": "stream",
          "name": "stdout",
          "text": [
            "Skipping Entity\n",
            "Skipping Entity\n",
            "Skipping Entity\n",
            "Skipping Entity\n",
            "Skipping Entity\n",
            "Skipping Entity\n",
            "Skipping Entity\n",
            "Skipping Entity\n",
            "Skipping Entity\n",
            "Skipping Entity\n",
            "Skipping Entity\n",
            "Skipping Entity\n",
            "Skipping Entity\n",
            "Skipping Entity\n",
            "Skipping Entity\n",
            "Skipping Entity\n"
          ]
        },
        {
          "output_type": "stream",
          "name": "stderr",
          "text": [
            "\n"
          ]
        }
      ]
    },
    {
      "cell_type": "code",
      "source": [
        "#before training we need a config file https://spacy.io/usage/training"
      ],
      "metadata": {
        "id": "gwT7qu8x1Pk2"
      },
      "execution_count": null,
      "outputs": []
    },
    {
      "cell_type": "code",
      "source": [
        "!python -m spacy init fill-config base_config.cfg config.cfg\n",
        "#modify max epochs (10) and batch size(100)"
      ],
      "metadata": {
        "colab": {
          "base_uri": "https://localhost:8080/"
        },
        "id": "vxxb8zzm1Prv",
        "outputId": "1f985e7c-582a-4e28-e799-690f0ceff3d1"
      },
      "execution_count": 32,
      "outputs": [
        {
          "output_type": "stream",
          "name": "stdout",
          "text": [
            "\u001b[38;5;2m✔ Auto-filled config with all values\u001b[0m\n",
            "\u001b[38;5;2m✔ Saved config\u001b[0m\n",
            "config.cfg\n",
            "You can now add your data and train your pipeline:\n",
            "python -m spacy train config.cfg --paths.train ./train.spacy --paths.dev ./dev.spacy\n"
          ]
        }
      ]
    },
    {
      "cell_type": "code",
      "source": [],
      "metadata": {
        "id": "MlcKwJuOwaTX"
      },
      "execution_count": null,
      "outputs": []
    },
    {
      "cell_type": "code",
      "source": [
        "!python -m spacy train config.cfg --output ./ --paths.train ./train.spacy --paths.dev ./train.spacy"
      ],
      "metadata": {
        "colab": {
          "base_uri": "https://localhost:8080/"
        },
        "id": "xwoa711K5GuG",
        "outputId": "acd35773-8c1f-4732-faa7-e626dcf3db8b"
      },
      "execution_count": null,
      "outputs": [
        {
          "output_type": "stream",
          "name": "stdout",
          "text": [
            "\u001b[38;5;4mℹ Saving to output directory: .\u001b[0m\n",
            "\u001b[38;5;4mℹ Using CPU\u001b[0m\n",
            "\u001b[1m\n",
            "=========================== Initializing pipeline ===========================\u001b[0m\n",
            "[2022-07-01 18:31:37,021] [INFO] Set up nlp object from config\n",
            "[2022-07-01 18:31:37,041] [INFO] Pipeline: ['tok2vec', 'ner']\n",
            "[2022-07-01 18:31:37,047] [INFO] Created vocabulary\n",
            "[2022-07-01 18:31:40,116] [INFO] Added vectors: en_core_web_lg\n",
            "[2022-07-01 18:31:43,239] [INFO] Finished initializing nlp object\n",
            "[2022-07-01 18:31:45,876] [INFO] Initialized pipeline components: ['tok2vec', 'ner']\n",
            "\u001b[38;5;2m✔ Initialized pipeline\u001b[0m\n",
            "\u001b[1m\n",
            "============================= Training pipeline =============================\u001b[0m\n",
            "\u001b[38;5;4mℹ Pipeline: ['tok2vec', 'ner']\u001b[0m\n",
            "\u001b[38;5;4mℹ Initial learn rate: 0.001\u001b[0m\n",
            "E    #       LOSS TOK2VEC  LOSS NER  ENTS_F  ENTS_P  ENTS_R  SCORE \n",
            "---  ------  ------------  --------  ------  ------  ------  ------\n",
            "  0       0          0.00    153.29    0.49    0.64    0.39    0.00\n",
            "  7     200        501.32   3113.23   78.43   78.12   78.74    0.78\n",
            "\u001b[38;5;2m✔ Saved pipeline to output directory\u001b[0m\n",
            "model-last\n"
          ]
        }
      ]
    },
    {
      "cell_type": "code",
      "source": [
        "nlp_ner=spacy.load(\"/content/model-best\")"
      ],
      "metadata": {
        "id": "8HnZZdPn1a1u"
      },
      "execution_count": 75,
      "outputs": []
    },
    {
      "cell_type": "code",
      "source": [
        "doc = nlp_ner(\"While bismuth compounds (Pepto-Bismol) decreased the number of bowel movements in those with travelers' diarrhea, they do not decrease the length of illness.[91] Anti-motility agents like loperamide are also effective at reducing the number of stools but not the duration of disease.[8] These agents should be used only if bloody diarrhea is not present.\")\n",
        "\n",
        "colors = {\"PATHOGEN\": \"#F67DE3\", \"MEDICINE\": \"#7DF6D9\", \"MEDICALCONDITION\":\"#a6e22d\"}\n",
        "options = {\"colors\": colors}\n",
        "\n",
        "spacy.displacy.render(doc, style=\"ent\", options= options, jupyter=True)"
      ],
      "metadata": {
        "colab": {
          "base_uri": "https://localhost:8080/",
          "height": 157
        },
        "id": "Fm4S7YXEhvow",
        "outputId": "411028d2-528d-421a-bdee-5b7370cd2bec"
      },
      "execution_count": null,
      "outputs": [
        {
          "output_type": "display_data",
          "data": {
            "text/plain": [
              "<IPython.core.display.HTML object>"
            ],
            "text/html": [
              "<span class=\"tex2jax_ignore\"><div class=\"entities\" style=\"line-height: 2.5; direction: ltr\">While \n",
              "<mark class=\"entity\" style=\"background: #7DF6D9; padding: 0.45em 0.6em; margin: 0 0.25em; line-height: 1; border-radius: 0.35em;\">\n",
              "    bismuth\n",
              "    <span style=\"font-size: 0.8em; font-weight: bold; line-height: 1; border-radius: 0.35em; vertical-align: middle; margin-left: 0.5rem\">MEDICINE</span>\n",
              "</mark>\n",
              " compounds (\n",
              "<mark class=\"entity\" style=\"background: #7DF6D9; padding: 0.45em 0.6em; margin: 0 0.25em; line-height: 1; border-radius: 0.35em;\">\n",
              "    Pepto-\n",
              "    <span style=\"font-size: 0.8em; font-weight: bold; line-height: 1; border-radius: 0.35em; vertical-align: middle; margin-left: 0.5rem\">MEDICINE</span>\n",
              "</mark>\n",
              "Bismol) decreased the number of bowel movements in those with travelers' \n",
              "<mark class=\"entity\" style=\"background: #a6e22d; padding: 0.45em 0.6em; margin: 0 0.25em; line-height: 1; border-radius: 0.35em;\">\n",
              "    diarrhea\n",
              "    <span style=\"font-size: 0.8em; font-weight: bold; line-height: 1; border-radius: 0.35em; vertical-align: middle; margin-left: 0.5rem\">MEDICALCONDITION</span>\n",
              "</mark>\n",
              ", they do not decrease the length of illness.[91] Anti-motility agents like \n",
              "<mark class=\"entity\" style=\"background: #7DF6D9; padding: 0.45em 0.6em; margin: 0 0.25em; line-height: 1; border-radius: 0.35em;\">\n",
              "    loperamide\n",
              "    <span style=\"font-size: 0.8em; font-weight: bold; line-height: 1; border-radius: 0.35em; vertical-align: middle; margin-left: 0.5rem\">MEDICINE</span>\n",
              "</mark>\n",
              " are also effective at reducing the number of stools but not the duration of disease.[8] These agents should be used only if bloody diarrhea is not present.</div></span>"
            ]
          },
          "metadata": {}
        }
      ]
    }
  ]
}